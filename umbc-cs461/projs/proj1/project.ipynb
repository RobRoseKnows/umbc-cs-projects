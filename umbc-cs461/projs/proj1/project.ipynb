{
 "cells": [
  {
   "cell_type": "markdown",
   "metadata": {},
   "source": [
    "# CMSC 461 Project Notebook\n",
    "\n",
    "**Name:** Robert Rose  \n",
    "**Semester:** Spring 2019\n",
    "\n",
    "User Guide Note: To run a cell, hit shift and enter.\n",
    "\n",
    "First ensure that the connector is installed via pip:"
   ]
  },
  {
   "cell_type": "code",
   "execution_count": 1,
   "metadata": {},
   "outputs": [
    {
     "name": "stdout",
     "output_type": "stream",
     "text": [
      "Requirement already satisfied: mysql-connector-python in /home/rob/dotfiles/pyenv/versions/3.6.6/envs/dbs/lib/python3.6/site-packages (8.0.15)\n",
      "Requirement already satisfied: protobuf>=3.0.0 in /home/rob/dotfiles/pyenv/versions/3.6.6/envs/dbs/lib/python3.6/site-packages (from mysql-connector-python) (3.6.1)\n",
      "Requirement already satisfied: setuptools in /home/rob/dotfiles/pyenv/versions/3.6.6/envs/dbs/lib/python3.6/site-packages (from protobuf>=3.0.0->mysql-connector-python) (40.8.0)\n",
      "Requirement already satisfied: six>=1.9 in /home/rob/dotfiles/pyenv/versions/3.6.6/envs/dbs/lib/python3.6/site-packages (from protobuf>=3.0.0->mysql-connector-python) (1.12.0)\n",
      "\u001b[33mYou are using pip version 19.0.2, however version 19.1.1 is available.\n",
      "You should consider upgrading via the 'pip install --upgrade pip' command.\u001b[0m\n"
     ]
    }
   ],
   "source": [
    "!pip install mysql-connector-python"
   ]
  },
  {
   "cell_type": "code",
   "execution_count": 9,
   "metadata": {},
   "outputs": [],
   "source": [
    "import mysql.connector\n",
    "from ipywidgets import interact, interactive, fixed, interact_manual\n",
    "import ipywidgets as widgets"
   ]
  },
  {
   "cell_type": "markdown",
   "metadata": {},
   "source": [
    "Get database password:"
   ]
  },
  {
   "cell_type": "code",
   "execution_count": 3,
   "metadata": {},
   "outputs": [
    {
     "name": "stdout",
     "output_type": "stream",
     "text": [
      "········\n"
     ]
    }
   ],
   "source": [
    "import getpass\n",
    "db_user = 'root'\n",
    "db_password = getpass.getpass()"
   ]
  },
  {
   "cell_type": "code",
   "execution_count": 5,
   "metadata": {},
   "outputs": [],
   "source": [
    "config = {\n",
    "    'user': db_user,\n",
    "    'password': db_password,\n",
    "    'host': 'localhost',\n",
    "    'port': 3306,\n",
    "    'database': 'project',\n",
    "    'raise_on_warnings': False\n",
    "}"
   ]
  },
  {
   "cell_type": "code",
   "execution_count": 7,
   "metadata": {},
   "outputs": [],
   "source": [
    "db_connection = mysql.connector.connect(**config)"
   ]
  },
  {
   "cell_type": "code",
   "execution_count": 8,
   "metadata": {},
   "outputs": [],
   "source": [
    "cur = db_connection.cursor()"
   ]
  },
  {
   "cell_type": "markdown",
   "metadata": {},
   "source": [
    "## CRUD Operations\n",
    "\n",
    "### Barcodes\n",
    "\n",
    "Barcodes must be 13 characters long. There is no need for UPDATE commands on the barcode because there's only one value in the table."
   ]
  },
  {
   "cell_type": "code",
   "execution_count": 19,
   "metadata": {},
   "outputs": [
    {
     "data": {
      "application/vnd.jupyter.widget-view+json": {
       "model_id": "0e70cbd573314b92970b614fd2da3efc",
       "version_major": 2,
       "version_minor": 0
      },
      "text/plain": [
       "interactive(children=(Text(value='13 CHARACTERS', description='barcode'), Button(description='Run Interact', s…"
      ]
     },
     "metadata": {},
     "output_type": "display_data"
    }
   ],
   "source": [
    "@interact_manual(barcode='13 CHARACTERS')\n",
    "def create_barcode(barcode):\n",
    "    query = f\"\"\"\n",
    "    INSERT INTO barcodes(barcode)\n",
    "    VALUES('{barcode}')\n",
    "    \"\"\"\n",
    "    if len(barcode) == 13:\n",
    "        try:\n",
    "            cur.execute(query)\n",
    "            print(f\"Barcode {barcode} successfully inserted!\")\n",
    "            db_connection.commit()\n",
    "        except Exception as err:\n",
    "            print(f\"An error {err} occurred\")\n",
    "            db_connection.rollback()\n",
    "    else:\n",
    "        print(\"Barcode must be 13 characters long.\")"
   ]
  },
  {
   "cell_type": "code",
   "execution_count": 29,
   "metadata": {},
   "outputs": [
    {
     "data": {
      "application/vnd.jupyter.widget-view+json": {
       "model_id": "4bcf07debd4b4934a74532d8e3d95d0f",
       "version_major": 2,
       "version_minor": 0
      },
      "text/plain": [
       "interactive(children=(Text(value='', description='barcode'), Output()), _dom_classes=('widget-interact',))"
      ]
     },
     "metadata": {},
     "output_type": "display_data"
    }
   ],
   "source": [
    "@interact(barcode='')\n",
    "def search_barcode(barcode):\n",
    "    # This searches to see if the barcode is in the database and what ids it corresponds to.\n",
    "    query = \"\"\"\n",
    "    SELECT * FROM barcode_lookup_view\n",
    "    WHERE barcode LIKE CONCAT (%s, '%')\n",
    "    \"\"\"\n",
    "    print(\"('Barcode', 'Species', 'Cultivar', 'tray_id', 'pots_id', 'station_id')\")\n",
    "    cur.execute(query, (barcode,))\n",
    "    results = cur.fetchall()\n",
    "    for res in results:\n",
    "        print(res)"
   ]
  },
  {
   "cell_type": "code",
   "execution_count": null,
   "metadata": {},
   "outputs": [],
   "source": []
  }
 ],
 "metadata": {
  "kernelspec": {
   "display_name": "Python 3",
   "language": "python",
   "name": "python3"
  },
  "language_info": {
   "codemirror_mode": {
    "name": "ipython",
    "version": 3
   },
   "file_extension": ".py",
   "mimetype": "text/x-python",
   "name": "python",
   "nbconvert_exporter": "python",
   "pygments_lexer": "ipython3",
   "version": "3.6.6"
  }
 },
 "nbformat": 4,
 "nbformat_minor": 2
}
