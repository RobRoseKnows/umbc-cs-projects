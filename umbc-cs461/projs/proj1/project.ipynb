{
 "cells": [
  {
   "cell_type": "markdown",
   "metadata": {},
   "source": [
    "# CMSC 461 Project Notebook\n",
    "\n",
    "**Name:** Robert Rose  \n",
    "**Semester:** Spring 2019\n",
    "\n",
    "User Guide Note: To run a cell, hit shift and enter.\n",
    "\n",
    "First ensure that the connector is installed via pip:"
   ]
  },
  {
   "cell_type": "code",
   "execution_count": 1,
   "metadata": {},
   "outputs": [
    {
     "name": "stdout",
     "output_type": "stream",
     "text": [
      "Requirement already satisfied: mysql-connector-python in /home/rob/dotfiles/pyenv/versions/3.6.6/envs/dbs/lib/python3.6/site-packages (8.0.15)\n",
      "Requirement already satisfied: protobuf>=3.0.0 in /home/rob/dotfiles/pyenv/versions/3.6.6/envs/dbs/lib/python3.6/site-packages (from mysql-connector-python) (3.6.1)\n",
      "Requirement already satisfied: setuptools in /home/rob/dotfiles/pyenv/versions/3.6.6/envs/dbs/lib/python3.6/site-packages (from protobuf>=3.0.0->mysql-connector-python) (40.8.0)\n",
      "Requirement already satisfied: six>=1.9 in /home/rob/dotfiles/pyenv/versions/3.6.6/envs/dbs/lib/python3.6/site-packages (from protobuf>=3.0.0->mysql-connector-python) (1.12.0)\n",
      "\u001b[33mYou are using pip version 19.0.2, however version 19.1.1 is available.\n",
      "You should consider upgrading via the 'pip install --upgrade pip' command.\u001b[0m\n"
     ]
    }
   ],
   "source": [
    "!pip install mysql-connector-python"
   ]
  },
  {
   "cell_type": "code",
   "execution_count": 9,
   "metadata": {},
   "outputs": [],
   "source": [
    "import mysql.connector\n",
    "from ipywidgets import interact, interactive, fixed, interact_manual\n",
    "import ipywidgets as widgets"
   ]
  },
  {
   "cell_type": "markdown",
   "metadata": {},
   "source": [
    "Get database password:"
   ]
  },
  {
   "cell_type": "code",
   "execution_count": 3,
   "metadata": {},
   "outputs": [
    {
     "name": "stdout",
     "output_type": "stream",
     "text": [
      "········\n"
     ]
    }
   ],
   "source": [
    "import getpass\n",
    "db_user = 'root'\n",
    "db_password = getpass.getpass()"
   ]
  },
  {
   "cell_type": "code",
   "execution_count": 5,
   "metadata": {},
   "outputs": [],
   "source": [
    "config = {\n",
    "    'user': db_user,\n",
    "    'password': db_password,\n",
    "    'host': 'localhost',\n",
    "    'port': 3306,\n",
    "    'database': 'project',\n",
    "    'raise_on_warnings': False\n",
    "}"
   ]
  },
  {
   "cell_type": "code",
   "execution_count": 7,
   "metadata": {},
   "outputs": [],
   "source": [
    "db_connection = mysql.connector.connect(**config)"
   ]
  },
  {
   "cell_type": "code",
   "execution_count": 8,
   "metadata": {},
   "outputs": [],
   "source": [
    "cur = db_connection.cursor()"
   ]
  },
  {
   "cell_type": "markdown",
   "metadata": {},
   "source": [
    "## Reports\n",
    "\n",
    "### 1. List the unique common names of all the vegetables currently planted"
   ]
  },
  {
   "cell_type": "code",
   "execution_count": 34,
   "metadata": {},
   "outputs": [
    {
     "name": "stdout",
     "output_type": "stream",
     "text": [
      "Bok choy\n",
      "Turnip\n",
      "Zucchini\n",
      "Pumpkin\n"
     ]
    }
   ],
   "source": [
    "def report_01():\n",
    "    query = \"\"\"\n",
    "    SELECT DISTINCT plants.common_name \n",
    "    FROM pots JOIN plants ON (pots.holding_species, pots.holding_cultivar) = (plants.species, plants.cultivar) \n",
    "    WHERE plants.plant_type = 'vegetables';\n",
    "    \"\"\"\n",
    "    try:\n",
    "        cur.execute(query)\n",
    "        names = cur.fetchall()\n",
    "        for name in names:\n",
    "            print(name[0])\n",
    "    except Exception as err:\n",
    "        print(f\"An error {err} occurred\")\n",
    "report_01()"
   ]
  },
  {
   "cell_type": "markdown",
   "metadata": {},
   "source": [
    "### 2. List the species name and number of varieties for each plant species for all the plants."
   ]
  },
  {
   "cell_type": "code",
   "execution_count": 35,
   "metadata": {},
   "outputs": [
    {
     "name": "stdout",
     "output_type": "stream",
     "text": [
      "Allium sativum: 2\n",
      "Beta vulgaris: 2\n",
      "Brassica oleracea: 2\n",
      "Brassica rapa: 2\n",
      "Calendula officinalis: 2\n",
      "Capsicum annuum: 2\n",
      "Chrysanthemum morifolium: 2\n",
      "Cucurbita pepo: 2\n",
      "Helianthus annuus: 2\n",
      "Hemerocallis lilioasphodelus: 2\n",
      "Ismelia carinata: 2\n",
      "Mentha × piperita: 2\n",
      "Nepeta cataria: 2\n",
      "Ocimum basilicum: 2\n",
      "Origanum vulgare: 2\n",
      "Rosmarinus officinalis: 2\n",
      "Trientalis latifolia: 2\n",
      "Tulipa × gesneriana: 2\n"
     ]
    }
   ],
   "source": [
    "def report_02():\n",
    "    query = \"\"\"\n",
    "    SELECT species, COUNT(cultivar) AS num_varieties FROM plants\n",
    "    GROUP BY species;\n",
    "    \"\"\"\n",
    "    try:\n",
    "        cur.execute(query)\n",
    "        results = cur.fetchall()\n",
    "        for res in results:\n",
    "            print(f\"{res[0]}: {res[1]}\")\n",
    "    except Exception as err:\n",
    "        print(f\"An error {err} occurred\")\n",
    "report_02()"
   ]
  },
  {
   "cell_type": "markdown",
   "metadata": {},
   "source": [
    "### 3. Find the total number of pots currently holding a plant with a given common name"
   ]
  },
  {
   "cell_type": "code",
   "execution_count": 36,
   "metadata": {},
   "outputs": [
    {
     "data": {
      "application/vnd.jupyter.widget-view+json": {
       "model_id": "bc154b577c5a41a1b913ed1f05e390a8",
       "version_major": 2,
       "version_minor": 0
      },
      "text/plain": [
       "interactive(children=(Text(value='Insert Case-Sensitive Common Name Here', description='common_name'), Button(…"
      ]
     },
     "metadata": {},
     "output_type": "display_data"
    }
   ],
   "source": [
    "@interact_manual(common_name='Case-Sensitive Common Name')\n",
    "def report_03(common_name):\n",
    "    query = \"\"\"\n",
    "    SELECT COUNT(pots.id) AS TOTAL\n",
    "    FROM pots JOIN plants ON (pots.holding_species, pots.holding_cultivar) = (plants.species, plants.cultivar) \n",
    "    WHERE plants.common_name = %s;\n",
    "    \"\"\"\n",
    "    try:\n",
    "        cur.execute(query, (common_name,))\n",
    "        results = cur.fetchone()\n",
    "        print(results[0])\n",
    "    except Exception as err:\n",
    "        print(f\"An error {err} occurred\")"
   ]
  },
  {
   "cell_type": "markdown",
   "metadata": {},
   "source": [
    "### 4. Find the histogram (value and count) of volumes of pots with germinated plants with a given common name."
   ]
  },
  {
   "cell_type": "code",
   "execution_count": 37,
   "metadata": {},
   "outputs": [
    {
     "data": {
      "application/vnd.jupyter.widget-view+json": {
       "model_id": "6a10cb1be93e489481d25082840d815b",
       "version_major": 2,
       "version_minor": 0
      },
      "text/plain": [
       "interactive(children=(Text(value='Case-Sensitive Common Name', description='common_name'), Button(description=…"
      ]
     },
     "metadata": {},
     "output_type": "display_data"
    }
   ],
   "source": [
    "@interact_manual(common_name='Case-Sensitive Common Name')\n",
    "def report_04(common_name):\n",
    "    query = \"\"\"\n",
    "    SELECT pots.volume AS volume, COUNT(pots.id) AS NUM\n",
    "    FROM pots JOIN plants ON (pots.holding_species, pots.holding_cultivar) = (plants.species, plants.cultivar) \n",
    "    WHERE plants.common_name = %s\n",
    "    GROUP BY pots.volume;\n",
    "    \"\"\"\n",
    "    try:\n",
    "        cur.execute(query, (common_name,))\n",
    "        results = cur.fetchall()\n",
    "        for res in results:\n",
    "            print(f\"{res[0]}: {res[1]}\")\n",
    "    except Exception as err:\n",
    "        print(f\"An error {err} occurred\")"
   ]
  },
  {
   "cell_type": "markdown",
   "metadata": {},
   "source": [
    "### 5. Find the most populous species among the pots with germinated plants."
   ]
  },
  {
   "cell_type": "code",
   "execution_count": 40,
   "metadata": {},
   "outputs": [
    {
     "name": "stdout",
     "output_type": "stream",
     "text": [
      "Ismelia carinata: 7 plants\n"
     ]
    }
   ],
   "source": [
    "def report_05():\n",
    "    query = \"\"\"\n",
    "    SELECT pots.holding_species, COUNT(pots.id) AS NUM\n",
    "    FROM pots\n",
    "    WHERE pots.holding_germination_date IS NOT NULL\n",
    "    GROUP BY pots.holding_species\n",
    "    ORDER BY NUM DESC\n",
    "    LIMIT 1;\n",
    "    \"\"\"\n",
    "    try:\n",
    "        cur.execute(query)\n",
    "        results = cur.fetchone()\n",
    "        print(f\"{results[0]}: {results[1]} plants\")\n",
    "    except Exception as err:\n",
    "        print(f\"An error {err} occurred\")\n",
    "report_05()"
   ]
  },
  {
   "cell_type": "markdown",
   "metadata": {},
   "source": [
    "## CRUD Operations\n",
    "\n",
    "### Barcodes\n",
    "\n",
    "Barcodes must be 13 characters long. There is no need for UPDATE commands on the barcode because there's only one value in the table."
   ]
  },
  {
   "cell_type": "code",
   "execution_count": 30,
   "metadata": {},
   "outputs": [
    {
     "data": {
      "application/vnd.jupyter.widget-view+json": {
       "model_id": "b4c07e1e439044439405deb94decc7dd",
       "version_major": 2,
       "version_minor": 0
      },
      "text/plain": [
       "interactive(children=(Text(value='13 CHARACTERS', description='barcode'), Button(description='Run Interact', s…"
      ]
     },
     "metadata": {},
     "output_type": "display_data"
    }
   ],
   "source": [
    "@interact_manual(barcode='13 CHARACTERS')\n",
    "def create_barcode(barcode):\n",
    "    query = f\"\"\"\n",
    "    INSERT INTO barcodes(barcode)\n",
    "    VALUES(%s)\n",
    "    \"\"\"\n",
    "    if len(barcode) == 13:\n",
    "        try:\n",
    "            cur.execute(query, (barcode,))\n",
    "            print(f\"Barcode {barcode} successfully inserted!\")\n",
    "            db_connection.commit()\n",
    "        except Exception as err:\n",
    "            print(f\"An error {err} occurred\")\n",
    "            db_connection.rollback()\n",
    "    else:\n",
    "        print(\"Barcode must be 13 characters long.\")"
   ]
  },
  {
   "cell_type": "code",
   "execution_count": 29,
   "metadata": {},
   "outputs": [
    {
     "data": {
      "application/vnd.jupyter.widget-view+json": {
       "model_id": "4bcf07debd4b4934a74532d8e3d95d0f",
       "version_major": 2,
       "version_minor": 0
      },
      "text/plain": [
       "interactive(children=(Text(value='', description='barcode'), Output()), _dom_classes=('widget-interact',))"
      ]
     },
     "metadata": {},
     "output_type": "display_data"
    }
   ],
   "source": [
    "@interact(barcode='')\n",
    "def search_barcode(barcode):\n",
    "    # This searches to see if the barcode is in the database and what ids it corresponds to.\n",
    "    query = \"\"\"\n",
    "    SELECT * FROM barcode_lookup_view\n",
    "    WHERE barcode LIKE CONCAT (%s, '%')\n",
    "    \"\"\"\n",
    "    print(\"('Barcode', 'Species', 'Cultivar', 'tray_id', 'pots_id', 'station_id')\")\n",
    "    cur.execute(query, (barcode,))\n",
    "    results = cur.fetchall()\n",
    "    for res in results:\n",
    "        print(res)"
   ]
  },
  {
   "cell_type": "code",
   "execution_count": 32,
   "metadata": {},
   "outputs": [
    {
     "data": {
      "application/vnd.jupyter.widget-view+json": {
       "model_id": "37d3f80b50644c3eacd6cf521a9cc824",
       "version_major": 2,
       "version_minor": 0
      },
      "text/plain": [
       "interactive(children=(Text(value='13 CHARACTERS', description='barcode'), Button(description='Run Interact', s…"
      ]
     },
     "metadata": {},
     "output_type": "display_data"
    }
   ],
   "source": [
    "@interact_manual(barcode='13 CHARACTERS')\n",
    "def delete_barcode(barcode):\n",
    "    query = \"\"\"\n",
    "    DELETE FROM barcodes WHERE barcode = %s\n",
    "    \"\"\"\n",
    "    if len(barcode) == 13:\n",
    "        try:\n",
    "            cur.execute(query, (barcode,))\n",
    "            print(f\"Barcode {barcode} successfully deleted!\")\n",
    "            db_connection.commit()\n",
    "        except Exception as err:\n",
    "            print(f\"An error {err} occurred\")\n",
    "            db_connection.rollback()\n",
    "    else:\n",
    "        print(\"Barcode must be 13 characters long.\")"
   ]
  },
  {
   "cell_type": "code",
   "execution_count": null,
   "metadata": {},
   "outputs": [],
   "source": []
  }
 ],
 "metadata": {
  "kernelspec": {
   "display_name": "Python 3",
   "language": "python",
   "name": "python3"
  },
  "language_info": {
   "codemirror_mode": {
    "name": "ipython",
    "version": 3
   },
   "file_extension": ".py",
   "mimetype": "text/x-python",
   "name": "python",
   "nbconvert_exporter": "python",
   "pygments_lexer": "ipython3",
   "version": "3.6.6"
  }
 },
 "nbformat": 4,
 "nbformat_minor": 2
}
