{
 "cells": [
  {
   "cell_type": "markdown",
   "metadata": {},
   "source": [
    "### Simple example showing how to query a MySql db and examine the results.\n",
    "#### Prepared by Dr. Kalpakis for CMSC461@UMBC (Spring'2019)\n"
   ]
  },
  {
   "cell_type": "code",
   "execution_count": 4,
   "metadata": {},
   "outputs": [],
   "source": [
    "#!pip install mysql-connector-python"
   ]
  },
  {
   "cell_type": "code",
   "execution_count": 1,
   "metadata": {},
   "outputs": [],
   "source": [
    "import mysql.connector"
   ]
  },
  {
   "cell_type": "code",
   "execution_count": 3,
   "metadata": {},
   "outputs": [],
   "source": [
    "# get DB username and password from the standard input\n",
    "import getpass\n",
    "db_user = 'root'\n",
    "db_password = 'password'"
   ]
  },
  {
   "cell_type": "code",
   "execution_count": 4,
   "metadata": {},
   "outputs": [],
   "source": [
    "# prepare the configuration parameters for connecting to database\n",
    "config = {\n",
    "   'user': db_user,\n",
    "   'password': db_password,\n",
    "   'host': 'localhost',\n",
    "   'port': 3306,\n",
    "   'database': 'university',\n",
    "   'raise_on_warnings': True                    \n",
    "}\n"
   ]
  },
  {
   "cell_type": "code",
   "execution_count": 5,
   "metadata": {},
   "outputs": [],
   "source": [
    "#connect to DB server\n",
    "db_connection = mysql.connector.connect(**config)"
   ]
  },
  {
   "cell_type": "code",
   "execution_count": 6,
   "metadata": {},
   "outputs": [],
   "source": [
    "#open a cursor (iterator) for stepping through the tuples in the resultset of an SQL query \n",
    "cur = db_connection.cursor()"
   ]
  },
  {
   "cell_type": "code",
   "execution_count": 7,
   "metadata": {},
   "outputs": [
    {
     "name": "stdout",
     "output_type": "stream",
     "text": [
      "Zhang           Comp. Sci.\n",
      "Shankar         Comp. Sci.\n",
      "Brandt          History   \n",
      "Chavez          Finance   \n",
      "Peltier         Physics   \n",
      "Levy            Physics   \n",
      "Williams        Comp. Sci.\n",
      "Sanchez         Music     \n",
      "Snow            Physics   \n",
      "Brown           Comp. Sci.\n"
     ]
    }
   ],
   "source": [
    "query = (\"SELECT name, dept_name FROM student LIMIT 10\")\n",
    "\n",
    "# execute the query\n",
    "cur.execute(query)\n",
    "\n",
    "#iterate over the resultset\n",
    "for (name, dept_name) in cur:\n",
    "    print(\"{:15} {:10}\".format(name, dept_name))\n"
   ]
  },
  {
   "cell_type": "code",
   "execution_count": 8,
   "metadata": {},
   "outputs": [
    {
     "data": {
      "text/plain": [
       "True"
      ]
     },
     "execution_count": 8,
     "metadata": {},
     "output_type": "execute_result"
    }
   ],
   "source": [
    "#close the cursor\n",
    "cur.close()"
   ]
  },
  {
   "cell_type": "code",
   "execution_count": 9,
   "metadata": {},
   "outputs": [
    {
     "data": {
      "text/html": [
       "<div>\n",
       "<style scoped>\n",
       "    .dataframe tbody tr th:only-of-type {\n",
       "        vertical-align: middle;\n",
       "    }\n",
       "\n",
       "    .dataframe tbody tr th {\n",
       "        vertical-align: top;\n",
       "    }\n",
       "\n",
       "    .dataframe thead th {\n",
       "        text-align: right;\n",
       "    }\n",
       "</style>\n",
       "<table border=\"1\" class=\"dataframe\">\n",
       "  <thead>\n",
       "    <tr style=\"text-align: right;\">\n",
       "      <th></th>\n",
       "      <th>name</th>\n",
       "      <th>dept_name</th>\n",
       "    </tr>\n",
       "  </thead>\n",
       "  <tbody>\n",
       "    <tr>\n",
       "      <th>0</th>\n",
       "      <td>Zhang</td>\n",
       "      <td>Comp. Sci.</td>\n",
       "    </tr>\n",
       "    <tr>\n",
       "      <th>1</th>\n",
       "      <td>Shankar</td>\n",
       "      <td>Comp. Sci.</td>\n",
       "    </tr>\n",
       "    <tr>\n",
       "      <th>2</th>\n",
       "      <td>Brandt</td>\n",
       "      <td>History</td>\n",
       "    </tr>\n",
       "    <tr>\n",
       "      <th>3</th>\n",
       "      <td>Chavez</td>\n",
       "      <td>Finance</td>\n",
       "    </tr>\n",
       "    <tr>\n",
       "      <th>4</th>\n",
       "      <td>Peltier</td>\n",
       "      <td>Physics</td>\n",
       "    </tr>\n",
       "    <tr>\n",
       "      <th>5</th>\n",
       "      <td>Levy</td>\n",
       "      <td>Physics</td>\n",
       "    </tr>\n",
       "    <tr>\n",
       "      <th>6</th>\n",
       "      <td>Williams</td>\n",
       "      <td>Comp. Sci.</td>\n",
       "    </tr>\n",
       "    <tr>\n",
       "      <th>7</th>\n",
       "      <td>Sanchez</td>\n",
       "      <td>Music</td>\n",
       "    </tr>\n",
       "    <tr>\n",
       "      <th>8</th>\n",
       "      <td>Snow</td>\n",
       "      <td>Physics</td>\n",
       "    </tr>\n",
       "    <tr>\n",
       "      <th>9</th>\n",
       "      <td>Brown</td>\n",
       "      <td>Comp. Sci.</td>\n",
       "    </tr>\n",
       "  </tbody>\n",
       "</table>\n",
       "</div>"
      ],
      "text/plain": [
       "       name   dept_name\n",
       "0     Zhang  Comp. Sci.\n",
       "1   Shankar  Comp. Sci.\n",
       "2    Brandt     History\n",
       "3    Chavez     Finance\n",
       "4   Peltier     Physics\n",
       "5      Levy     Physics\n",
       "6  Williams  Comp. Sci.\n",
       "7   Sanchez       Music\n",
       "8      Snow     Physics\n",
       "9     Brown  Comp. Sci."
      ]
     },
     "execution_count": 9,
     "metadata": {},
     "output_type": "execute_result"
    }
   ],
   "source": [
    "# get the result set of an SQL query statement as a panda dataframe\n",
    "import pandas as pd\n",
    "df = pd.read_sql('SELECT name, dept_name FROM student', con=db_connection)\n",
    "#show the first 10 tuples in the result set\n",
    "df.head(10)"
   ]
  },
  {
   "cell_type": "code",
   "execution_count": 10,
   "metadata": {},
   "outputs": [],
   "source": [
    "#close the connection to the DB server\n",
    "db_connection.close()"
   ]
  },
  {
   "cell_type": "code",
   "execution_count": 11,
   "metadata": {},
   "outputs": [
    {
     "name": "stdout",
     "output_type": "stream",
     "text": [
      "2019-02-12 22:15:01.668056\n",
      "rob\n",
      "rob-BOXE\n",
      "/bin/sh: 1: ipconfig: not found\n",
      "{\n",
      "  \"shell_port\": 52253,\n",
      "  \"iopub_port\": 35867,\n",
      "  \"stdin_port\": 43159,\n",
      "  \"control_port\": 35089,\n",
      "  \"hb_port\": 42445,\n",
      "  \"ip\": \"127.0.0.1\",\n",
      "  \"key\": \"6dc4f3a8-b8a225b767944fc2b92b60fc\",\n",
      "  \"transport\": \"tcp\",\n",
      "  \"signature_scheme\": \"hmac-sha256\",\n",
      "  \"kernel_name\": \"\"\n",
      "}\n",
      "\n",
      "Paste the above JSON into a file, and connect with:\n",
      "    $> jupyter <app> --existing <file>\n",
      "or, if you are local, you can connect with just:\n",
      "    $> jupyter <app> --existing kernel-526b1637-7f7c-4dd7-987b-84ef7ed55d98.json\n",
      "or even just:\n",
      "    $> jupyter <app> --existing\n",
      "if this is the most recent Jupyter kernel you have started.\n"
     ]
    }
   ],
   "source": [
    "#capture host information\n",
    "import datetime\n",
    "print(datetime.datetime.now())\n",
    "!whoami\n",
    "!hostname\n",
    "#!ipconfig | grep 'IPv4 Address'\n",
    "#!ipconfig | grep 'DNS'\n",
    "!ipconfig\n",
    "%connect_info"
   ]
  },
  {
   "cell_type": "code",
   "execution_count": null,
   "metadata": {},
   "outputs": [],
   "source": []
  }
 ],
 "metadata": {
  "kernelspec": {
   "display_name": "Python 3",
   "language": "python",
   "name": "python3"
  },
  "language_info": {
   "codemirror_mode": {
    "name": "ipython",
    "version": 3
   },
   "file_extension": ".py",
   "mimetype": "text/x-python",
   "name": "python",
   "nbconvert_exporter": "python",
   "pygments_lexer": "ipython3",
   "version": "3.6.6"
  }
 },
 "nbformat": 4,
 "nbformat_minor": 2
}
