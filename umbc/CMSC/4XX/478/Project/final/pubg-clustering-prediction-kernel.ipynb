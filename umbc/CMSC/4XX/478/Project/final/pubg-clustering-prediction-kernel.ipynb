{
  "cells": [
    {
      "metadata": {
        "_uuid": "8f2839f25d086af736a60e9eeb907d3b93b6e0e5",
        "_cell_guid": "b1076dfc-b9ad-4769-8c92-a6c4dae69d19",
        "trusted": true,
        "_kg_hide-input": true
      },
      "cell_type": "code",
      "source": "import gc\nimport time\n\nimport numpy as np\nimport pandas as pd\n\nimport matplotlib.pyplot as plt\nimport seaborn as sns\n\nimport random\nrandom.seed(1337)\nnp.random.seed(1337)\n\nimport warnings\nwarnings.filterwarnings(\"ignore\", category=DeprecationWarning)",
      "execution_count": null,
      "outputs": []
    },
    {
      "metadata": {
        "_cell_guid": "79c7e3d0-c299-4dcb-8224-4455121ee9b0",
        "_uuid": "d629ff2d2480ee46fbb7e2d37f6b5fab8052498a",
        "trusted": true
      },
      "cell_type": "code",
      "source": "# Credit for some of this method here: https://www.kaggle.com/rejasupotaro/effective-feature-engineering\ndef load_train():\n    gc.collect()\n    df = pd.read_csv('../input/train_V2.csv')\n    invalid_match_ids = df[df['winPlacePerc'].isna()]['matchId'].values\n    df = df[-df['matchId'].isin(invalid_match_ids)]\n    return df\n\ndef load_test():\n    gc.collect()\n    df = pd.read_csv('../input/test_V2.csv')\n    return df",
      "execution_count": null,
      "outputs": []
    },
    {
      "metadata": {
        "trusted": true,
        "_uuid": "dd5b0120b7db622cffe53eef04d4cb7746a3edfa"
      },
      "cell_type": "code",
      "source": "df_train = load_train()\ndf_test = load_test()",
      "execution_count": null,
      "outputs": []
    },
    {
      "metadata": {
        "trusted": true,
        "_uuid": "b9c2c525154aaed47df314e911c03bd8e88138ac"
      },
      "cell_type": "code",
      "source": "# Memory saving function credit to https://www.kaggle.com/gemartin/load-data-reduce-memory-usage\ndef reduce_mem_usage(df):\n    \"\"\" iterate through all the columns of a dataframe and modify the data type\n        to reduce memory usage.        \n    \"\"\"\n    #start_mem = df.memory_usage().sum() / 1024**2\n    #print('Memory usage of dataframe is {:.2f} MB'.format(start_mem))\n\n    for col in df.columns:\n        col_type = df[col].dtype\n\n        if col_type != object:\n            c_min = df[col].min()\n            c_max = df[col].max()\n            if str(col_type)[:3] == 'int':\n                if c_min > np.iinfo(np.int8).min and c_max < np.iinfo(np.int8).max:\n                    df[col] = df[col].astype(np.int8)\n                elif c_min > np.iinfo(np.int16).min and c_max < np.iinfo(np.int16).max:\n                    df[col] = df[col].astype(np.int16)\n                elif c_min > np.iinfo(np.int32).min and c_max < np.iinfo(np.int32).max:\n                    df[col] = df[col].astype(np.int32)\n                elif c_min > np.iinfo(np.int64).min and c_max < np.iinfo(np.int64).max:\n                    df[col] = df[col].astype(np.int64)  \n            else:\n                if c_min > np.finfo(np.float16).min and c_max < np.finfo(np.float16).max:\n                    df[col] = df[col].astype(np.float16)\n                elif c_min > np.finfo(np.float32).min and c_max < np.finfo(np.float32).max:\n                    df[col] = df[col].astype(np.float32)\n                else:\n                    df[col] = df[col].astype(np.float64)\n\n    #end_mem = df.memory_usage().sum() / 1024**2\n    #print('Memory usage after optimization is: {:.2f} MB'.format(end_mem))\n    #print('Decreased by {:.1f}%'.format(100 * (start_mem - end_mem) / start_mem))\n\n    return df",
      "execution_count": null,
      "outputs": []
    },
    {
      "metadata": {
        "trusted": true,
        "_uuid": "361173658ba7b93970be2f6a6f50a1f2195e6016"
      },
      "cell_type": "code",
      "source": "df_train['playersJoined'] = df_train.groupby('matchId')['matchId'].transform('count')\ndf_test['playersJoined'] = df_test.groupby('matchId')['matchId'].transform('count')",
      "execution_count": null,
      "outputs": []
    },
    {
      "metadata": {
        "trusted": true,
        "_uuid": "fd02e1d5ccc529b63f123aa969f7dabf5ed9048f"
      },
      "cell_type": "code",
      "source": "df_train['killsNorm'] = df_train['kills']*((100-df_train['playersJoined'])/100 + 1)\ndf_train['damageDealtNorm'] = df_train['damageDealt']*((100-df_train['playersJoined'])/100 + 1)\ndf_train['maxPlaceNorm'] = df_train['maxPlace']*((100-df_train['playersJoined'])/100 + 1)\ndf_train['matchDurationNorm'] = df_train['matchDuration']*((100-df_train['playersJoined'])/100 + 1)\ndf_train = reduce_mem_usage(df_train)\ndf_train.head()",
      "execution_count": null,
      "outputs": []
    },
    {
      "metadata": {
        "trusted": true,
        "_uuid": "3b66e4c1f6c01d8d196683988d6d3abda0e6ee43"
      },
      "cell_type": "code",
      "source": "df_test['killsNorm'] = df_test['kills']*((100-df_test['playersJoined'])/100 + 1)\ndf_test['damageDealtNorm'] = df_test['damageDealt']*((100-df_test['playersJoined'])/100 + 1)\ndf_test['maxPlaceNorm'] = df_test['maxPlace']*((100-df_test['playersJoined'])/100 + 1)\ndf_test['matchDurationNorm'] = df_test['matchDuration']*((100-df_test['playersJoined'])/100 + 1)\ndf_test = reduce_mem_usage(df_test)\ndf_test.head()",
      "execution_count": null,
      "outputs": []
    },
    {
      "metadata": {
        "trusted": true,
        "_uuid": "af0825c757671c39dcb7ac669cb5d2a6e5def6df"
      },
      "cell_type": "code",
      "source": "target = 'winPlacePerc'\ndrop_cols = ['Id', 'groupId', 'matchId', target]\nselect = [x for x in df_train.columns if x not in drop_cols]\nX_train = df_train.loc[:, select]\nX_train.head()",
      "execution_count": null,
      "outputs": []
    },
    {
      "metadata": {
        "trusted": true,
        "_uuid": "bbde12dac3d8fa07b088fed36ed88eab30822227"
      },
      "cell_type": "code",
      "source": "X_test = df_test.loc[:, select]\nX_test.head()",
      "execution_count": null,
      "outputs": []
    },
    {
      "metadata": {
        "trusted": true,
        "_uuid": "de2af635bd3aa1013e4d61f22b4f449790be15cc"
      },
      "cell_type": "code",
      "source": "X_train = pd.get_dummies(X_train)\nX_test = pd.get_dummies(X_test)",
      "execution_count": null,
      "outputs": []
    },
    {
      "metadata": {
        "trusted": true,
        "_uuid": "b5118910ec943e8fdcc9eda2fe1c1bf0afefc6dd"
      },
      "cell_type": "code",
      "source": "print(X_train.shape)\nprint(X_test.shape)",
      "execution_count": null,
      "outputs": []
    },
    {
      "metadata": {
        "trusted": true,
        "_uuid": "413143dddcac87e2916c3a1b2acd0f6f31033d49"
      },
      "cell_type": "code",
      "source": "from sklearn.decomposition import PCA",
      "execution_count": null,
      "outputs": []
    },
    {
      "metadata": {
        "trusted": true,
        "_uuid": "dcd80de140baa907549482132df4d8963d3071e9"
      },
      "cell_type": "code",
      "source": "pca2 = PCA(n_components=2)\npca2.fit(X_train)",
      "execution_count": null,
      "outputs": []
    },
    {
      "metadata": {
        "trusted": true,
        "_uuid": "de6ae1faf2187d508e237f8b2f353ec9064b3ea6"
      },
      "cell_type": "code",
      "source": "P2_train = pca2.transform(X_train)\nP2_test = pca2.transform(X_test)",
      "execution_count": null,
      "outputs": []
    },
    {
      "metadata": {
        "_kg_hide-input": true,
        "trusted": true,
        "_uuid": "d14230b0ae50e0b5ad9434aade224379298ad422"
      },
      "cell_type": "code",
      "source": "plt.plot(P2_train[:100000, 0], P2_train[:100000, 1], linestyle='', marker='o', markersize=0.7)\nplt.xlabel('Component 0')\nplt.ylabel('Component 1')\nplt.title('PCA w/ Two Components on Training Data')\nplt.show()",
      "execution_count": null,
      "outputs": []
    },
    {
      "metadata": {
        "_kg_hide-input": true,
        "trusted": true,
        "_uuid": "42ff309dd5415072ab43295b94a72430c4b09718"
      },
      "cell_type": "code",
      "source": "plt.plot(P2_test[:100000, 0], P2_test[:100000, 1], linestyle='', marker='o', markersize=0.7)\nplt.xlabel('Component 0')\nplt.ylabel('Component 1')\nplt.title('PCA w/ Two Components on Testing Data')\nplt.show()",
      "execution_count": null,
      "outputs": []
    },
    {
      "metadata": {
        "trusted": true,
        "_uuid": "f4d556d36d7131dd9918a299d9bca9f43383fe09"
      },
      "cell_type": "code",
      "source": "from sklearn.cluster import KMeans",
      "execution_count": null,
      "outputs": []
    },
    {
      "metadata": {
        "trusted": true,
        "_uuid": "6b28b7f6b98e086dd9f2199eb4bf7cd9b7c28f8a"
      },
      "cell_type": "code",
      "source": "kms3 = KMeans(n_clusters=3).fit(P2_train)\nkms4 = KMeans(n_clusters=4).fit(P2_train)\nkms5 = KMeans(n_clusters=5).fit(P2_train)",
      "execution_count": null,
      "outputs": []
    },
    {
      "metadata": {
        "_kg_hide-input": true,
        "trusted": true,
        "_uuid": "87c20261da091c65bad99fb73e32a5a7e6c8d6fa"
      },
      "cell_type": "code",
      "source": "plt.scatter(P2_train[:100000, 0], P2_train[:100000, 1], c=kms3.labels_[:100000])\nplt.xlabel('Component 0')\nplt.ylabel('Component 1')\nplt.title('Three Clusters')\nplt.show()",
      "execution_count": null,
      "outputs": []
    },
    {
      "metadata": {
        "_kg_hide-input": true,
        "trusted": true,
        "_uuid": "3da5e35244e7be147683edcdd63591c70a1c4adf"
      },
      "cell_type": "code",
      "source": "plt.scatter(P2_train[:100000, 0], P2_train[:100000, 1], c=kms4.labels_[:100000])\nplt.xlabel('Component 0')\nplt.ylabel('Component 1')\nplt.title('Four Clusters')\nplt.show()",
      "execution_count": null,
      "outputs": []
    },
    {
      "metadata": {
        "_kg_hide-input": true,
        "trusted": true,
        "_uuid": "e2c02491d8581ae1f42cb1e6b396709424114bce"
      },
      "cell_type": "code",
      "source": "plt.scatter(P2_train[:100000, 0], P2_train[:100000, 1], c=kms5.labels_[:100000])\nplt.xlabel('Component 0')\nplt.ylabel('Component 1')\nplt.title('Five Clusters')\nplt.show()",
      "execution_count": null,
      "outputs": []
    },
    {
      "metadata": {
        "trusted": true,
        "_uuid": "2d18cdda998a7a8eeeba2776399445753f5d8671"
      },
      "cell_type": "code",
      "source": "def cluster_features(df, model, pca):\n    P = pca.transform(df)\n    new_df = pd.DataFrame()\n    new_df['cluster'] = model.predict(P)\n    one_hot = pd.get_dummies(new_df['cluster'])\n    one_hot.columns = one_hot.columns.map(lambda x: 'cluster_' + str(x))\n    new_df = new_df.join(one_hot)\n    new_df = new_df.drop('cluster', axis=1)\n    new_df = new_df.fillna(0)\n    return new_df\n    \ndef centroid_features(df, model, pca):\n    P = pd.DataFrame(pca.transform(df))\n    new_df = pd.DataFrame()\n    cluster = 0\n    for centers in model.cluster_centers_:\n        new_df['distance_{}'.format(cluster)] = np.linalg.norm(P[[0, 1]].sub(np.array(centers)), axis=1)\n        cluster += 1\n    return new_df",
      "execution_count": null,
      "outputs": []
    },
    {
      "metadata": {
        "trusted": true,
        "_uuid": "d85f1b3435f63521076ef613800ee7018d3446dd"
      },
      "cell_type": "code",
      "source": "def norm_features(df):\n    df['playersJoined'] = df.groupby('matchId')['matchId'].transform('count')\n    df['killsNorm'] = df['kills']*((100-df['playersJoined'])/100 + 1)\n    df['damageDealtNorm'] = df['damageDealt']*((100-df['playersJoined'])/100 + 1)\n    df['maxPlaceNorm'] = df['maxPlace']*((100-df['playersJoined'])/100 + 1)\n    df['matchDurationNorm'] = df['matchDuration']*((100-df['playersJoined'])/100 + 1)\n    df = reduce_mem_usage(df)\n    return df\n\ndef one_hot_encode(df):\n    return pd.get_dummies(df, columns=['matchType'])\n\ndef remove_categories(df):\n    target = 'winPlacePerc'\n    drop_cols = ['Id', 'groupId', 'matchId', 'matchType', target]\n    select = [x for x in df.columns if x not in drop_cols]\n    return df.loc[:, select]",
      "execution_count": null,
      "outputs": []
    },
    {
      "metadata": {
        "trusted": true,
        "_uuid": "00f248176879525189959905549230477ea2fe95"
      },
      "cell_type": "code",
      "source": "def kmeans_5_clusters(df):\n    res = cluster_features(remove_categories(one_hot_encode(norm_features(df))), kms5, pca2)\n    res.columns = res.columns.map(lambda x: 'kms5_' + str(x))\n    return res\n    \ndef kmeans_5_centroids(df):\n    res = centroid_features(remove_categories(one_hot_encode(norm_features(df))), kms5, pca2)\n    res.columns = res.columns.map(lambda x: 'kms5_' + str(x))\n    return res\n\ndef kmeans_4_clusters(df):\n    res = cluster_features(remove_categories(one_hot_encode(norm_features(df))), kms4, pca2)\n    res.columns = res.columns.map(lambda x: 'kms4_' + str(x))\n    return res\n    \ndef kmeans_4_centroids(df):\n    res = centroid_features(remove_categories(one_hot_encode(norm_features(df))), kms4, pca2)\n    res.columns = res.columns.map(lambda x: 'kms4_' + str(x))\n    return res\n\ndef kmeans_3_clusters(df):\n    res = cluster_features(remove_categories(one_hot_encode(norm_features(df))), kms3, pca2)\n    res.columns = res.columns.map(lambda x: 'kms3_' + str(x))\n    return res\n    \ndef kmeans_3_centroids(df):\n    res = centroid_features(remove_categories(one_hot_encode(norm_features(df))), kms3, pca2)\n    res.columns = res.columns.map(lambda x: 'kms3_' + str(x))\n    return res",
      "execution_count": null,
      "outputs": []
    },
    {
      "metadata": {
        "trusted": true,
        "_uuid": "7a5572e6bf71d4cb9827a579d706da3cf9090cd4"
      },
      "cell_type": "code",
      "source": "def train_valid_split(df, test_size=0.1):\n    match_ids = df['matchId'].unique().tolist()\n    train_size = int(len(match_ids) * (1 - test_size))\n    train_match_ids = random.sample(match_ids, train_size)\n\n    train = df[df['matchId'].isin(train_match_ids)]\n    valid = df[-df['matchId'].isin(train_match_ids)]\n    \n    return train, valid",
      "execution_count": null,
      "outputs": []
    },
    {
      "metadata": {
        "trusted": true,
        "_uuid": "36877732547b4f80103419dae54cdcafb48a2d51"
      },
      "cell_type": "code",
      "source": "def join_in_cluster_features(df):\n    kms5clus = kmeans_5_clusters(df)\n    kms4clus = kmeans_4_clusters(df)\n    kms3clus = kmeans_3_clusters(df)\n    \n    kms5cent = kmeans_5_centroids(df)\n    kms4cent = kmeans_4_centroids(df)\n    kms3cent = kmeans_3_centroids(df)\n    \n    joinlist = [kms5clus, kms4clus, kms3clus, kms5cent, kms4cent, kms3cent]\n    for each in joinlist:\n        df = df.join(each)\n    return df",
      "execution_count": null,
      "outputs": []
    },
    {
      "metadata": {
        "trusted": true,
        "_uuid": "488d6b586a0a3413b5ac7bb95646fe40faeb8bc7"
      },
      "cell_type": "code",
      "source": "df_train = reduce_mem_usage(join_in_cluster_features(load_train()))\ndf_test = reduce_mem_usage(join_in_cluster_features(load_test()))",
      "execution_count": null,
      "outputs": []
    },
    {
      "metadata": {
        "trusted": true,
        "_uuid": "9c2b30401c69705183fa67f28edeb4b81a051a64"
      },
      "cell_type": "code",
      "source": "df_train, df_valid = train_valid_split(df_train)",
      "execution_count": null,
      "outputs": []
    },
    {
      "metadata": {
        "trusted": true,
        "_uuid": "1f97571377f85bb53e1256aa70fbce6cc8fede74"
      },
      "cell_type": "code",
      "source": "print(\"Validation shape: \", df_valid.shape)\nprint(\"Train shape: \", df_train.shape)\nprint(\"Test shape: \", df_test.shape)",
      "execution_count": null,
      "outputs": []
    },
    {
      "metadata": {
        "trusted": true,
        "_uuid": "fb6105cc131c02e821c6db0fbf729453f7da7552"
      },
      "cell_type": "code",
      "source": "df_train.head()\ndf_valid.head()\ndf_test.head()",
      "execution_count": null,
      "outputs": []
    },
    {
      "metadata": {
        "trusted": true,
        "_uuid": "1e48c76137c3c6b4ea62848594a6e73e7b74cb19"
      },
      "cell_type": "code",
      "source": "df_train['groupId'] = df_train['groupId'].astype('category')\ndf_train['matchId'] = df_train['matchId'].astype('category')\n\ndf_valid['groupId'] = df_valid['groupId'].astype('category')\ndf_valid['matchId'] = df_valid['matchId'].astype('category')\n\ndf_test['groupId'] = df_test['groupId'].astype('category')\ndf_test['matchId'] = df_test['matchId'].astype('category')\n\ndf_train['groupId_cat'] = df_train['groupId'].cat.codes\ndf_train['matchId_cat'] = df_train['matchId'].cat.codes\n\ndf_valid['groupId_cat'] = df_valid['groupId'].cat.codes\ndf_valid['matchId_cat'] = df_valid['matchId'].cat.codes\n\ndf_test['groupId_cat'] = df_test['groupId'].cat.codes\ndf_test['matchId_cat'] = df_test['matchId'].cat.codes\n\ndf_train.drop(columns=['groupId', 'matchId'], inplace=True)\ndf_valid.drop(columns=['groupId', 'matchId'], inplace=True)\ndf_test.drop(columns=['groupId', 'matchId'], inplace=True)",
      "execution_count": null,
      "outputs": []
    },
    {
      "metadata": {
        "trusted": true,
        "_uuid": "a58782ce01a64ed348afa78f78d22809b7a8919a"
      },
      "cell_type": "code",
      "source": "df_train = pd.get_dummies(df_train, columns=['matchType'])\ndf_valid = pd.get_dummies(df_valid, columns=['matchType'])\ndf_test = pd.get_dummies(df_test, columns=['matchType'])",
      "execution_count": null,
      "outputs": []
    },
    {
      "metadata": {
        "trusted": true,
        "_uuid": "4bf1de1096490dda5e2c4cfde4297f53e39ca238"
      },
      "cell_type": "code",
      "source": "df_train.drop(columns = ['Id'], inplace=True)\ndf_valid.drop(columns = ['Id'], inplace=True)",
      "execution_count": null,
      "outputs": []
    },
    {
      "metadata": {
        "trusted": true,
        "_uuid": "20749293baebf1a5079088c6d53f5c9d09e37f1e"
      },
      "cell_type": "code",
      "source": "from sklearn.metrics import mean_absolute_error\nfrom sklearn.ensemble import RandomForestRegressor\nfrom fastai.imports import *\nfrom fastai.structured import *\nimport lightgbm as lgb",
      "execution_count": null,
      "outputs": []
    },
    {
      "metadata": {
        "trusted": true,
        "_uuid": "048d574c790a6f4ac1ea4d7c1f64d901e372aa85"
      },
      "cell_type": "code",
      "source": "print(\"Validation shape: \", df_valid.shape)\nprint(\"Train shape: \", df_train.shape)\nprint(\"Test shape: \", df_test.shape)\nmissing = set(df_train.columns) - set(df_valid.columns)\nprint(\"Missing: {}\".format(missing))\nfor miss in missing:\n    df_valid[miss] = 0\nprint(\"Validation shape: \", df_valid.shape)\nprint(\"Train shape: \", df_train.shape)\nprint(\"Test shape: \", df_test.shape)",
      "execution_count": null,
      "outputs": []
    },
    {
      "metadata": {
        "trusted": true,
        "_uuid": "dfad48581f8f159675f1a1e0cbe0c276dce50a62"
      },
      "cell_type": "code",
      "source": "X_train = df_train.loc[:, df_train.columns != 'winPlacePerc']\nX_valid = df_valid.loc[:, df_valid.columns != 'winPlacePerc']\nX_test = df_test.loc[:, df_test.columns != 'Id']\n\ny_train = df_train.loc[:, 'winPlacePerc']\ny_valid = df_valid.loc[:, 'winPlacePerc']",
      "execution_count": null,
      "outputs": []
    },
    {
      "metadata": {
        "trusted": true,
        "_uuid": "d08b40f3d67c03456a3aceb839d282ba83494e61"
      },
      "cell_type": "code",
      "source": "# credit for this fucntion: https://www.kaggle.com/carlolepelaars/pubg-data-exploration-rf-funny-gifs\ndef print_score(m):\n    res = ['mae train: ', mean_absolute_error(m.predict(X_train), y_train), \n           'mae val: ', mean_absolute_error(m.predict(X_valid), y_valid)]\n    if hasattr(m, 'oob_score_'): res.append(m.oob_score_)\n    print(res)",
      "execution_count": null,
      "outputs": []
    },
    {
      "metadata": {
        "trusted": true,
        "_uuid": "cba1b14e5edb423c63e99d0d80dacccb2827a61a"
      },
      "cell_type": "code",
      "source": "def run_lgb(train_X, train_y, val_X, val_y, x_test):\n    params = {\"objective\" : \"regression\", \"metric\" : \"mae\", 'n_estimators':20000, 'early_stopping_rounds':200,\n              \"num_leaves\" : 31, \"learning_rate\" : 0.05, \"bagging_fraction\" : 0.7,\n               \"bagging_seed\" : 0, \"num_threads\" : 4,\"colsample_bytree\" : 0.7\n             }\n    \n    lgtrain = lgb.Dataset(train_X, label=train_y)\n    lgval = lgb.Dataset(val_X, label=val_y)\n    model = lgb.train(params, lgtrain, valid_sets=[lgtrain, lgval], early_stopping_rounds=200, verbose_eval=1000)\n    \n    pred_test_y = model.predict(x_test, num_iteration=model.best_iteration)\n    return pred_test_y, model\n\n# Training the model #\npred_test, model = run_lgb(X_train, y_train, X_valid, y_valid, X_test)",
      "execution_count": null,
      "outputs": []
    },
    {
      "metadata": {
        "trusted": true,
        "_uuid": "c21356667aeca1bcd93746c20ca2d419a76aa680"
      },
      "cell_type": "code",
      "source": "df_sub = pd.read_csv(\"../input/sample_submission_V2.csv\")\ndf_sub['winPlacePerc'] = pred_test",
      "execution_count": null,
      "outputs": []
    },
    {
      "metadata": {
        "trusted": true,
        "_uuid": "3ec324026dbbbf34a84eb39a795c71d6d5c7b936"
      },
      "cell_type": "code",
      "source": "df_sub[[\"Id\", \"winPlacePerc\"]].to_csv(\"submission_adjusted.csv\", index=False)",
      "execution_count": null,
      "outputs": []
    }
  ],
  "metadata": {
    "kernelspec": {
      "display_name": "Python 3",
      "language": "python",
      "name": "python3"
    },
    "language_info": {
      "name": "python",
      "version": "3.6.6",
      "mimetype": "text/x-python",
      "codemirror_mode": {
        "name": "ipython",
        "version": 3
      },
      "pygments_lexer": "ipython3",
      "nbconvert_exporter": "python",
      "file_extension": ".py"
    }
  },
  "nbformat": 4,
  "nbformat_minor": 1
}