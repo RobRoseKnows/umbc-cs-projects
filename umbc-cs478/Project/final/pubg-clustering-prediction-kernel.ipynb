{
  "cells": [
    {
      "metadata": {
        "_uuid": "8f2839f25d086af736a60e9eeb907d3b93b6e0e5",
        "_cell_guid": "b1076dfc-b9ad-4769-8c92-a6c4dae69d19",
        "trusted": true,
        "_kg_hide-input": true
      },
      "cell_type": "code",
      "source": "import gc\nimport time\n\nimport numpy as np\nimport pandas as pd\n\nimport matplotlib.pyplot as plt\nimport seaborn as sns\n\nimport random\nrandom.seed(1337)\nnp.random.seed(1337)\n\nimport warnings\nwarnings.filterwarnings(\"ignore\", category=DeprecationWarning)",
      "execution_count": null,
      "outputs": []
    },
    {
      "metadata": {
        "_cell_guid": "79c7e3d0-c299-4dcb-8224-4455121ee9b0",
        "_uuid": "d629ff2d2480ee46fbb7e2d37f6b5fab8052498a",
        "trusted": true
      },
      "cell_type": "code",
      "source": "# Credit for some of this method here: https://www.kaggle.com/rejasupotaro/effective-feature-engineering\ndef load_train():\n    gc.collect()\n    df = pd.read_csv('../input/train_V2.csv')\n    invalid_match_ids = df[df['winPlacePerc'].isna()]['matchId'].values\n    df = df[-df['matchId'].isin(invalid_match_ids)]\n    return df\n\ndef load_test():\n    gc.collect()\n    df = pd.read_csv('../input/test_V2.csv')\n    return df",
      "execution_count": null,
      "outputs": []
    },
    {
      "metadata": {
        "trusted": true,
        "_uuid": "66a3ffa093d94b685d471d949d47a839668b5621"
      },
      "cell_type": "code",
      "source": "df_train = load_train()\ndf_test = load_test()",
      "execution_count": null,
      "outputs": []
    },
    {
      "metadata": {
        "trusted": true,
        "_uuid": "e487642f1657bcd92d3c16094eb9cb735bc5fba0"
      },
      "cell_type": "code",
      "source": "# Memory saving function credit to https://www.kaggle.com/gemartin/load-data-reduce-memory-usage\ndef reduce_mem_usage(df):\n    \"\"\" iterate through all the columns of a dataframe and modify the data type\n        to reduce memory usage.        \n    \"\"\"\n    #start_mem = df.memory_usage().sum() / 1024**2\n    #print('Memory usage of dataframe is {:.2f} MB'.format(start_mem))\n\n    for col in df.columns:\n        col_type = df[col].dtype\n\n        if col_type != object:\n            c_min = df[col].min()\n            c_max = df[col].max()\n            if str(col_type)[:3] == 'int':\n                if c_min > np.iinfo(np.int8).min and c_max < np.iinfo(np.int8).max:\n                    df[col] = df[col].astype(np.int8)\n                elif c_min > np.iinfo(np.int16).min and c_max < np.iinfo(np.int16).max:\n                    df[col] = df[col].astype(np.int16)\n                elif c_min > np.iinfo(np.int32).min and c_max < np.iinfo(np.int32).max:\n                    df[col] = df[col].astype(np.int32)\n                elif c_min > np.iinfo(np.int64).min and c_max < np.iinfo(np.int64).max:\n                    df[col] = df[col].astype(np.int64)  \n            else:\n                if c_min > np.finfo(np.float16).min and c_max < np.finfo(np.float16).max:\n                    df[col] = df[col].astype(np.float16)\n                elif c_min > np.finfo(np.float32).min and c_max < np.finfo(np.float32).max:\n                    df[col] = df[col].astype(np.float32)\n                else:\n                    df[col] = df[col].astype(np.float64)\n\n    #end_mem = df.memory_usage().sum() / 1024**2\n    #print('Memory usage after optimization is: {:.2f} MB'.format(end_mem))\n    #print('Decreased by {:.1f}%'.format(100 * (start_mem - end_mem) / start_mem))\n\n    return df",
      "execution_count": null,
      "outputs": []
    },
    {
      "metadata": {
        "trusted": true,
        "_uuid": "5ccdee9e0eda202054ee564473ed2b1b50b0a226"
      },
      "cell_type": "code",
      "source": "df_train['playersJoined'] = df_train.groupby('matchId')['matchId'].transform('count')\ndf_test['playersJoined'] = df_test.groupby('matchId')['matchId'].transform('count')",
      "execution_count": null,
      "outputs": []
    },
    {
      "metadata": {
        "trusted": true,
        "_uuid": "8b41a7c6a47006c7cbd2b30f2adfdc03a69b6c93"
      },
      "cell_type": "code",
      "source": "df_train['killsNorm'] = df_train['kills']*((100-df_train['playersJoined'])/100 + 1)\ndf_train['damageDealtNorm'] = df_train['damageDealt']*((100-df_train['playersJoined'])/100 + 1)\ndf_train['maxPlaceNorm'] = df_train['maxPlace']*((100-df_train['playersJoined'])/100 + 1)\ndf_train['matchDurationNorm'] = df_train['matchDuration']*((100-df_train['playersJoined'])/100 + 1)\ndf_train = reduce_mem_usage(df_train)\ndf_train.head()",
      "execution_count": null,
      "outputs": []
    },
    {
      "metadata": {
        "trusted": true,
        "_uuid": "a43c5f536579ffae895c18ed14b4cb0aaae755b2"
      },
      "cell_type": "code",
      "source": "df_test['killsNorm'] = df_test['kills']*((100-df_test['playersJoined'])/100 + 1)\ndf_test['damageDealtNorm'] = df_test['damageDealt']*((100-df_test['playersJoined'])/100 + 1)\ndf_test['maxPlaceNorm'] = df_test['maxPlace']*((100-df_test['playersJoined'])/100 + 1)\ndf_test['matchDurationNorm'] = df_test['matchDuration']*((100-df_test['playersJoined'])/100 + 1)\ndf_test = reduce_mem_usage(df_test)\ndf_test.head()",
      "execution_count": null,
      "outputs": []
    },
    {
      "metadata": {
        "trusted": true,
        "_uuid": "bac13ce8de9ce4a3ea39bbc67b8b3626fea73fdd"
      },
      "cell_type": "code",
      "source": "target = 'winPlacePerc'\ndrop_cols = ['Id', 'groupId', 'matchId', target]\nselect = [x for x in df_train.columns if x not in drop_cols]\nX_train = df_train.loc[:, select]\nX_train.head()",
      "execution_count": null,
      "outputs": []
    },
    {
      "metadata": {
        "trusted": true,
        "_uuid": "10725c8b2d55ec83d068e40f0426a686c4931f73"
      },
      "cell_type": "code",
      "source": "X_test = df_test.loc[:, select]\nX_test.head()",
      "execution_count": null,
      "outputs": []
    },
    {
      "metadata": {
        "trusted": true,
        "_uuid": "020f29c3e1a026056c583afca9da5fb8a632c898"
      },
      "cell_type": "code",
      "source": "X_train = pd.get_dummies(X_train)\nX_test = pd.get_dummies(X_test)",
      "execution_count": null,
      "outputs": []
    },
    {
      "metadata": {
        "trusted": true,
        "_uuid": "1a823fafabae50ead46f13717443cbf477dd4bdb"
      },
      "cell_type": "code",
      "source": "print(X_train.shape)\nprint(X_test.shape)",
      "execution_count": null,
      "outputs": []
    },
    {
      "metadata": {
        "trusted": true,
        "_uuid": "9ca5ce6e72d25c41c394e3719b5cdff19dc2b4bf"
      },
      "cell_type": "code",
      "source": "from sklearn.decomposition import PCA",
      "execution_count": null,
      "outputs": []
    },
    {
      "metadata": {
        "trusted": true,
        "_uuid": "40fdceb40cddab37c308b865ab11603db8973ab2"
      },
      "cell_type": "code",
      "source": "pca2 = PCA(n_components=2)\npca2.fit(X_train)",
      "execution_count": null,
      "outputs": []
    },
    {
      "metadata": {
        "trusted": true,
        "_uuid": "6bc9bbe777f4070263c8cf5c794ee075d9d15a7d"
      },
      "cell_type": "code",
      "source": "P2_train = pca2.transform(X_train)\nP2_test = pca2.transform(X_test)",
      "execution_count": null,
      "outputs": []
    },
    {
      "metadata": {
        "_kg_hide-input": true,
        "trusted": true,
        "_uuid": "25da435f6ef2268b2f1e27921410e09a078f9d80"
      },
      "cell_type": "code",
      "source": "plt.plot(P2_train[:100000, 0], P2_train[:100000, 1], linestyle='', marker='o', markersize=0.7)\nplt.xlabel('Component 0')\nplt.ylabel('Component 1')\nplt.title('PCA w/ Two Components on Training Data')\nplt.show()",
      "execution_count": null,
      "outputs": []
    },
    {
      "metadata": {
        "_kg_hide-input": true,
        "trusted": true,
        "_uuid": "3bc0df33b9512f4a9758393271c4cc0080f4955e"
      },
      "cell_type": "code",
      "source": "plt.plot(P2_test[:100000, 0], P2_test[:100000, 1], linestyle='', marker='o', markersize=0.7)\nplt.xlabel('Component 0')\nplt.ylabel('Component 1')\nplt.title('PCA w/ Two Components on Testing Data')\nplt.show()",
      "execution_count": null,
      "outputs": []
    },
    {
      "metadata": {
        "trusted": true,
        "_uuid": "3658125d2a1f649fe8a866a2d99fccd94e2903fa"
      },
      "cell_type": "code",
      "source": "from sklearn.cluster import KMeans",
      "execution_count": null,
      "outputs": []
    },
    {
      "metadata": {
        "trusted": true,
        "_uuid": "610d615957948382f0e9a80e83bf7bccf714a99d"
      },
      "cell_type": "code",
      "source": "kms3 = KMeans(n_clusters=3).fit(P2_train)\nkms4 = KMeans(n_clusters=4).fit(P2_train)\nkms5 = KMeans(n_clusters=5).fit(P2_train)",
      "execution_count": null,
      "outputs": []
    },
    {
      "metadata": {
        "_kg_hide-input": true,
        "trusted": true,
        "_uuid": "19a59a3bffc7205fbb9edb3a86cf3766f2932a08"
      },
      "cell_type": "code",
      "source": "plt.scatter(P2_train[:100000, 0], P2_train[:100000, 1], c=kms3.labels_[:100000])\nplt.xlabel('Component 0')\nplt.ylabel('Component 1')\nplt.title('Three Clusters')\nplt.show()",
      "execution_count": null,
      "outputs": []
    },
    {
      "metadata": {
        "_kg_hide-input": true,
        "trusted": true,
        "_uuid": "f42b86d781efb092c8b990b846dc9cde3a5daff3"
      },
      "cell_type": "code",
      "source": "plt.scatter(P2_train[:100000, 0], P2_train[:100000, 1], c=kms4.labels_[:100000])\nplt.xlabel('Component 0')\nplt.ylabel('Component 1')\nplt.title('Four Clusters')\nplt.show()",
      "execution_count": null,
      "outputs": []
    },
    {
      "metadata": {
        "_kg_hide-input": true,
        "trusted": true,
        "_uuid": "e58c666debe7b0a8d9f400e80573e11d23b26e45"
      },
      "cell_type": "code",
      "source": "plt.scatter(P2_train[:100000, 0], P2_train[:100000, 1], c=kms5.labels_[:100000])\nplt.xlabel('Component 0')\nplt.ylabel('Component 1')\nplt.title('Five Clusters')\nplt.show()",
      "execution_count": null,
      "outputs": []
    },
    {
      "metadata": {
        "trusted": true,
        "_uuid": "dd3bc3b4821aed8433224021acb659c47d97dfc9"
      },
      "cell_type": "code",
      "source": "def cluster_features(df, model, pca):\n    P = pca.transform(df)\n    new_df = pd.DataFrame()\n    new_df['cluster'] = model.predict(P)\n    one_hot = pd.get_dummies(new_df['cluster'])\n    one_hot.columns = one_hot.columns.map(lambda x: 'cluster_' + str(x))\n    new_df = new_df.join(one_hot)\n    new_df = new_df.drop('cluster', axis=1)\n    new_df = new_df.fillna(0)\n    return new_df\n    \ndef centroid_features(df, model, pca):\n    P = pd.DataFrame(pca.transform(df))\n    new_df = pd.DataFrame()\n    cluster = 0\n    for centers in model.cluster_centers_:\n        new_df['distance_{}'.format(cluster)] = np.linalg.norm(P[[0, 1]].sub(np.array(centers)), axis=1)\n        cluster += 1\n    return new_df",
      "execution_count": null,
      "outputs": []
    },
    {
      "metadata": {
        "trusted": true,
        "_uuid": "d7af578243debfa97b4592bea0de58390d78b552"
      },
      "cell_type": "code",
      "source": "def norm_features(df):\n    df['playersJoined'] = df.groupby('matchId')['matchId'].transform('count')\n    df['killsNorm'] = df['kills']*((100-df['playersJoined'])/100 + 1)\n    df['damageDealtNorm'] = df['damageDealt']*((100-df['playersJoined'])/100 + 1)\n    df['maxPlaceNorm'] = df['maxPlace']*((100-df['playersJoined'])/100 + 1)\n    df['matchDurationNorm'] = df['matchDuration']*((100-df['playersJoined'])/100 + 1)\n    df = reduce_mem_usage(df)\n    return df\n\ndef one_hot_encode(df):\n    return pd.get_dummies(df, columns=['matchType'])\n\ndef remove_categories(df):\n    target = 'winPlacePerc'\n    drop_cols = ['Id', 'groupId', 'matchId', 'matchType', target]\n    select = [x for x in df.columns if x not in drop_cols]\n    return df.loc[:, select]",
      "execution_count": null,
      "outputs": []
    },
    {
      "metadata": {
        "trusted": true,
        "_uuid": "0b8fc8a8d7697e4e8f94bdbf5578a08446546e61"
      },
      "cell_type": "code",
      "source": "def kmeans_5_clusters(df):\n    res = cluster_features(remove_categories(one_hot_encode(norm_features(df))), kms5, pca2)\n    res.columns = res.columns.map(lambda x: 'kms5_' + str(x))\n    return res\n    \ndef kmeans_5_centroids(df):\n    res = centroid_features(remove_categories(one_hot_encode(norm_features(df))), kms5, pca2)\n    res.columns = res.columns.map(lambda x: 'kms5_' + str(x))\n    return res\n\ndef kmeans_4_clusters(df):\n    res = cluster_features(remove_categories(one_hot_encode(norm_features(df))), kms4, pca2)\n    res.columns = res.columns.map(lambda x: 'kms4_' + str(x))\n    return res\n    \ndef kmeans_4_centroids(df):\n    res = centroid_features(remove_categories(one_hot_encode(norm_features(df))), kms4, pca2)\n    res.columns = res.columns.map(lambda x: 'kms4_' + str(x))\n    return res\n\ndef kmeans_3_clusters(df):\n    res = cluster_features(remove_categories(one_hot_encode(norm_features(df))), kms3, pca2)\n    res.columns = res.columns.map(lambda x: 'kms3_' + str(x))\n    return res\n    \ndef kmeans_3_centroids(df):\n    res = centroid_features(remove_categories(one_hot_encode(norm_features(df))), kms3, pca2)\n    res.columns = res.columns.map(lambda x: 'kms3_' + str(x))\n    return res",
      "execution_count": null,
      "outputs": []
    },
    {
      "metadata": {
        "trusted": true,
        "_uuid": "cb255496291c3d4559def297c0d0f77a7fc3da3c"
      },
      "cell_type": "code",
      "source": "def train_valid_split(df, test_size=0.1):\n    match_ids = df['matchId'].unique().tolist()\n    train_size = int(len(match_ids) * (1 - test_size))\n    train_match_ids = random.sample(match_ids, train_size)\n\n    train = df[df['matchId'].isin(train_match_ids)]\n    valid = df[-df['matchId'].isin(train_match_ids)]\n    \n    return train, valid",
      "execution_count": null,
      "outputs": []
    },
    {
      "metadata": {
        "trusted": true,
        "_uuid": "de4559925965b8ffd78e2086642ae4781524d76e"
      },
      "cell_type": "code",
      "source": "def join_in_cluster_features(df):\n    kms5clus = kmeans_5_clusters(df)\n    kms4clus = kmeans_4_clusters(df)\n    kms3clus = kmeans_3_clusters(df)\n    \n    kms5cent = kmeans_5_centroids(df)\n    kms4cent = kmeans_4_centroids(df)\n    kms3cent = kmeans_3_centroids(df)\n    \n    joinlist = [kms5clus, kms4clus, kms3clus, kms5cent, kms4cent, kms3cent]\n    for each in joinlist:\n        df = df.join(each)\n    return df",
      "execution_count": null,
      "outputs": []
    },
    {
      "metadata": {
        "trusted": true,
        "_uuid": "9b3b20ece953863732aefee43f358134557c7ef0"
      },
      "cell_type": "code",
      "source": "df_train = reduce_mem_usage(join_in_cluster_features(load_train()))\ndf_test = reduce_mem_usage(join_in_cluster_features(load_test()))",
      "execution_count": null,
      "outputs": []
    },
    {
      "metadata": {
        "trusted": true,
        "_uuid": "40472ab8e1cdc13485ad5b2a5a48287c421421f9"
      },
      "cell_type": "code",
      "source": "df_train, df_valid = train_valid_split(df_train)",
      "execution_count": null,
      "outputs": []
    },
    {
      "metadata": {
        "trusted": true,
        "_uuid": "7144767db3c7635da03155b5693fe7ec55090b9d"
      },
      "cell_type": "code",
      "source": "print(\"Validation shape: \", df_valid.shape)\nprint(\"Train shape: \", df_train.shape)\nprint(\"Test shape: \", df_test.shape)",
      "execution_count": null,
      "outputs": []
    },
    {
      "metadata": {
        "trusted": true,
        "_uuid": "be3f3d9c0f380217a8155119e8250ecff0ef2685"
      },
      "cell_type": "code",
      "source": "df_train.head()\ndf_valid.head()\ndf_test.head()",
      "execution_count": null,
      "outputs": []
    },
    {
      "metadata": {
        "trusted": true,
        "_uuid": "fe8c3f720eca34ec9efee7c11bfafddd7eb94c88"
      },
      "cell_type": "code",
      "source": "df_train['groupId'] = df_train['groupId'].astype('category')\ndf_train['matchId'] = df_train['matchId'].astype('category')\n\ndf_valid['groupId'] = df_valid['groupId'].astype('category')\ndf_valid['matchId'] = df_valid['matchId'].astype('category')\n\ndf_test['groupId'] = df_test['groupId'].astype('category')\ndf_test['matchId'] = df_test['matchId'].astype('category')\n\ndf_train['groupId_cat'] = df_train['groupId'].cat.codes\ndf_train['matchId_cat'] = df_train['matchId'].cat.codes\n\ndf_valid['groupId_cat'] = df_valid['groupId'].cat.codes\ndf_valid['matchId_cat'] = df_valid['matchId'].cat.codes\n\ndf_test['groupId_cat'] = df_test['groupId'].cat.codes\ndf_test['matchId_cat'] = df_test['matchId'].cat.codes\n\ndf_train.drop(columns=['groupId', 'matchId'], inplace=True)\ndf_valid.drop(columns=['groupId', 'matchId'], inplace=True)\ndf_test.drop(columns=['groupId', 'matchId'], inplace=True)",
      "execution_count": null,
      "outputs": []
    },
    {
      "metadata": {
        "trusted": true,
        "_uuid": "676a5c2570c10e8e37275b98888bb332f61fb6ff"
      },
      "cell_type": "code",
      "source": "df_train.drop(columns = ['Id'], inplace=True)\ndf_valid.drop(columns = ['Id'], inplace=True)",
      "execution_count": null,
      "outputs": []
    },
    {
      "metadata": {
        "trusted": true,
        "_uuid": "6313201da22ceb798939cc0209bac606da2b00d9"
      },
      "cell_type": "code",
      "source": "from sklearn.metrics import mean_absolute_error\nfrom sklearn.ensemble import RandomForestRegressor\nfrom fastai.imports import *\nfrom fastai.structured import *\nimport lightgbm as lgb",
      "execution_count": null,
      "outputs": []
    },
    {
      "metadata": {
        "trusted": true,
        "_uuid": "6ca38d5297d6d469f385c158081e23412c7370a1"
      },
      "cell_type": "code",
      "source": "X_train = df_train.loc[:, df_train.columns != 'winPlacePerc']\nX_valid = df_valid.loc[:, df_valid.columns != 'winPlacePerc']\nX_test = df_test\n\ny_train = df_train.loc[:, 'winPlacePerc']\ny_valid = df_valid.loc[:, 'winPlacePerc']",
      "execution_count": null,
      "outputs": []
    },
    {
      "metadata": {
        "trusted": true,
        "_uuid": "2506c49574b3f0c236b68a4d8c0e95547b78f864"
      },
      "cell_type": "code",
      "source": "# credit for this fucntion: https://www.kaggle.com/carlolepelaars/pubg-data-exploration-rf-funny-gifs\ndef print_score(m):\n    res = ['mae train: ', mean_absolute_error(m.predict(X_train), y_train), \n           'mae val: ', mean_absolute_error(m.predict(X_valid), y_valid)]\n    if hasattr(m, 'oob_score_'): res.append(m.oob_score_)\n    print(res)",
      "execution_count": null,
      "outputs": []
    },
    {
      "metadata": {
        "trusted": true,
        "_uuid": "c41c96b01c27dd22fc7e453991c89139ee65984d"
      },
      "cell_type": "code",
      "source": "",
      "execution_count": null,
      "outputs": []
    }
  ],
  "metadata": {
    "kernelspec": {
      "display_name": "Python 3",
      "language": "python",
      "name": "python3"
    },
    "language_info": {
      "name": "python",
      "version": "3.6.6",
      "mimetype": "text/x-python",
      "codemirror_mode": {
        "name": "ipython",
        "version": 3
      },
      "pygments_lexer": "ipython3",
      "nbconvert_exporter": "python",
      "file_extension": ".py"
    }
  },
  "nbformat": 4,
  "nbformat_minor": 1
}